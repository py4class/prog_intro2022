{
 "cells": [
  {
   "cell_type": "markdown",
   "metadata": {},
   "source": [
    "# 「プログラミング入門」の初期化ファイル"
   ]
  },
  {
   "cell_type": "markdown",
   "metadata": {
    "id": "AKHMP15mZqvc"
   },
   "source": [
    "最初に１度だけ実行する。"
   ]
  },
  {
   "cell_type": "code",
   "execution_count": null,
   "metadata": {
    "colab": {
     "base_uri": "https://localhost:8080/",
     "height": 1000
    },
    "executionInfo": {
     "elapsed": 204339,
     "status": "ok",
     "timestamp": 1659527171121,
     "user": {
      "displayName": "T H",
      "userId": "12326425821476943220"
     },
     "user_tz": -540
    },
    "id": "KcWwBEXioDA2",
    "outputId": "ae394dea-406c-457b-bf7a-3b132f167f1a"
   },
   "outputs": [],
   "source": [
    "from google.colab import drive\n",
    "drive.mount('/content/drive')\n",
    "%cd /content/drive/MyDrive/'Colab Notebooks'/\n",
    "! git clone https://github.com/py4class/prog_intro2022.git"
   ]
  },
  {
   "cell_type": "markdown",
   "metadata": {
    "id": "amStVaoOZ5Mj"
   },
   "source": [
    "上のコードを実行した後，教員の指示がある場合にのみ以下を実行すること。"
   ]
  },
  {
   "cell_type": "code",
   "execution_count": null,
   "metadata": {
    "colab": {
     "base_uri": "https://localhost:8080/"
    },
    "executionInfo": {
     "elapsed": 34734,
     "status": "ok",
     "timestamp": 1659523058574,
     "user": {
      "displayName": "T H",
      "userId": "12326425821476943220"
     },
     "user_tz": -540
    },
    "id": "7uwFTEpKvlcO",
    "outputId": "580967c4-40a2-44b6-f678-84ee1f961e17"
   },
   "outputs": [],
   "source": [
    "from google.colab import drive\n",
    "drive.mount('/content/drive')\n",
    "%cd /content/drive/MyDrive/'Colab Notebooks'/prog_intro2022\n",
    "! git pull"
   ]
  }
 ],
 "metadata": {
  "colab": {
   "collapsed_sections": [],
   "name": "初期化ファイル.ipynb",
   "provenance": [
    {
     "file_id": "11UMLoTV_PGf68fBHZUGIuLWitxiPiA9Z",
     "timestamp": 1659523945386
    }
   ]
  },
  "kernelspec": {
   "display_name": "Python 3 (ipykernel)",
   "language": "python",
   "name": "python3"
  },
  "language_info": {
   "codemirror_mode": {
    "name": "ipython",
    "version": 3
   },
   "file_extension": ".py",
   "mimetype": "text/x-python",
   "name": "python",
   "nbconvert_exporter": "python",
   "pygments_lexer": "ipython3",
   "version": "3.10.4"
  }
 },
 "nbformat": 4,
 "nbformat_minor": 1
}
